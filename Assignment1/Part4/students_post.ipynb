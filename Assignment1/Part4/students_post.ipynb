{
  "cells": [
    {
      "cell_type": "markdown",
      "metadata": {
        "id": "8PkpJTpmXyCc"
      },
      "source": [
        "Logistic Regression - Gradient Descent\n",
        "--\n",
        "In this part you will build a logistic regression model using Numpy and doing gradient descent. \n",
        "You should complete the following cells (those with comments and no code). "
      ]
    },
    {
      "cell_type": "code",
      "execution_count": 106,
      "metadata": {
        "collapsed": true,
        "id": "3ZZ17oiEXyCe"
      },
      "outputs": [],
      "source": [
        "import numpy as np\n",
        "import matplotlib.pyplot as plt"
      ]
    },
    {
      "cell_type": "code",
      "execution_count": 107,
      "metadata": {
        "colab": {
          "base_uri": "https://localhost:8080/"
        },
        "id": "Bnvuzk2QXyCe",
        "outputId": "01c027a2-42cf-47a5-9aff-13d7b003beaa"
      },
      "outputs": [
        {
          "output_type": "stream",
          "name": "stdout",
          "text": [
            "       exam1      exam2  admitted\n",
            "0  34.623660  78.024693         0\n",
            "1  30.286711  43.894998         0\n",
            "2  35.847409  72.902198         0\n",
            "3  60.182599  86.308552         1\n",
            "4  79.032736  75.344376         1\n"
          ]
        }
      ],
      "source": [
        "# read data\n",
        "import pandas as pd\n",
        "from sklearn.preprocessing import add_dummy_feature\n",
        "\n",
        "data = pd.read_csv('https://raw.githubusercontent.com/thomouvic/SENG474/main/data/exams_admitted.csv')\n",
        "print(data.head())"
      ]
    },
    {
      "cell_type": "code",
      "execution_count": 108,
      "metadata": {
        "id": "ErVgo_eeXyCf"
      },
      "outputs": [],
      "source": [
        "# extract X and y from data\n",
        "# use features 'exam1' and 'exam2' for X\n",
        "# use feature 'admitted' for y\n",
        "# use pandas.DataFrame.values to convert to numpy arrays\n",
        "X = data[['exam1', 'exam2']].values\n",
        "y = data[['admitted']].values"
      ]
    },
    {
      "cell_type": "code",
      "execution_count": 109,
      "metadata": {
        "id": "2gpwZJhPXyCg"
      },
      "outputs": [],
      "source": [
        "# normalize X\n",
        "# use scikit-learn's built-in function MinMaxScaler\n",
        "from sklearn.preprocessing import MinMaxScaler\n",
        "\n",
        "scaler = MinMaxScaler()\n",
        "X = scaler.fit_transform(X)"
      ]
    },
    {
      "cell_type": "code",
      "execution_count": 110,
      "metadata": {
        "id": "MAZ16qa1XyCh"
      },
      "outputs": [],
      "source": [
        "# add a dummy feature for the intercept\n",
        "# use scikit-learn's built-in function add_dummy_feature\n",
        "from sklearn.preprocessing import add_dummy_feature\n",
        "\n",
        "X = add_dummy_feature(X)"
      ]
    },
    {
      "cell_type": "code",
      "execution_count": 111,
      "metadata": {
        "id": "KpH88IvDXyCi"
      },
      "outputs": [],
      "source": [
        "# set m (number of training examples) and n (number of features)\n",
        "# use the shape attribute of X\n",
        "m, n = X.shape[0], X.shape[1] - 1"
      ]
    },
    {
      "cell_type": "code",
      "execution_count": 124,
      "metadata": {
        "id": "y7F4LdvqXyCi"
      },
      "outputs": [],
      "source": [
        "# initialize theta to zeros\n",
        "theta=np.zeros((n+1,1))"
      ]
    },
    {
      "cell_type": "code",
      "execution_count": 125,
      "metadata": {
        "colab": {
          "base_uri": "https://localhost:8080/"
        },
        "id": "TpniTLe_XyCj",
        "outputId": "5abad15a-b032-451d-ab3f-be8f1806ca78"
      },
      "outputs": [
        {
          "output_type": "stream",
          "name": "stdout",
          "text": [
            "0.5\n"
          ]
        }
      ],
      "source": [
        "# define sigmoid function\n",
        "def sigmoid(z):\n",
        "    return 1 / (1 + np.exp(-z))\n",
        "\n",
        "# test your sigmoid function on the value 0, should return 0.5\n",
        "value = 0\n",
        "result = sigmoid(value)\n",
        "print(result)"
      ]
    },
    {
      "cell_type": "code",
      "execution_count": 126,
      "metadata": {
        "colab": {
          "base_uri": "https://localhost:8080/"
        },
        "id": "ArxMgky7XyCk",
        "outputId": "68856ef1-d4be-451e-bfbd-d481f6e2ff6a"
      },
      "outputs": [
        {
          "output_type": "stream",
          "name": "stdout",
          "text": [
            "[0.5]\n",
            "[[0.5]\n",
            " [0.5]\n",
            " [0.5]\n",
            " [0.5]\n",
            " [0.5]]\n"
          ]
        }
      ],
      "source": [
        "# create a hypothesis function called h that takes in: \n",
        "# theta, an instance x, and returns the hypothesis\n",
        "# the hypothesis is the sigmoid of x@theta\n",
        "# use the @ operator for matrix multiplication\n",
        "def h(theta, x):\n",
        "    z = x @ theta\n",
        "    hypothesis = sigmoid(z)\n",
        "    return hypothesis\n",
        "\n",
        "# test your hypothesis function on the first instance of X, should return [[0.5]]\n",
        "hypothesis = h(theta, X[0])\n",
        "print(hypothesis)\n",
        "\n",
        "# the above function is vectorized\n",
        "# for example, if instead of a single instance x, we have a matrix X of shape (m,n)\n",
        "# then the hypothesis is a vector of shape (m,1) \n",
        "# where each element is the hypothesis for the corresponding row of X\n",
        "# test it on the first 5 instances of X, should return an array of 0.5's\n",
        "hypothesis = h(theta, X[:5])\n",
        "print(hypothesis)"
      ]
    },
    {
      "cell_type": "code",
      "execution_count": 115,
      "metadata": {
        "colab": {
          "base_uri": "https://localhost:8080/"
        },
        "id": "RczrZ8arXyCl",
        "outputId": "5fc1497e-e3ad-4747-d2a1-24002ad60009"
      },
      "outputs": [
        {
          "output_type": "stream",
          "name": "stdout",
          "text": [
            "0.6931471805599453\n"
          ]
        }
      ],
      "source": [
        "# create a function called J that takes in theta, X, y, and returns the cost\n",
        "# the cost is the average of the log loss over the training examples\n",
        "# the log loss for a single example is -y*log(h(theta,x))-(1-y)*log(1-h(theta,x))\n",
        "# the cost is the average of the log loss over the training examples\n",
        "# use the np.mean function to compute the average\n",
        "# use the np.log function to compute the log\n",
        "# use the @ operator to compute matrix multiplication\n",
        "# use a vectorized implementation, do not use a for loop over the training examples\n",
        "# use the hypothesis function h defined above\n",
        "def J(theta, X, y):\n",
        "    m = len(y)\n",
        "    h_theta = h(theta, X)\n",
        "    cost = -y * np.log(h_theta) - (1 - y) * np.log(1 - h_theta)\n",
        "    total_cost = np.mean(cost)\n",
        "    \n",
        "    return total_cost\n",
        "\n",
        "# test your cost function on the initial all-zero theta, should return 0.6931471805599453\n",
        "cost = J(theta, X, y)\n",
        "print(cost)"
      ]
    },
    {
      "cell_type": "code",
      "execution_count": 116,
      "metadata": {
        "colab": {
          "base_uri": "https://localhost:8080/"
        },
        "id": "clCHdFTRXyCl",
        "outputId": "aafd9474-1244-4b54-d2c8-dae03e345b7c"
      },
      "outputs": [
        {
          "output_type": "stream",
          "name": "stdout",
          "text": [
            "-0.11639991862911049\n"
          ]
        }
      ],
      "source": [
        "# create a function called gradient that takes in theta, X, y, and returns the gradient\n",
        "# the gradient is the average of the gradient over the training examples\n",
        "# use the hypothesis function h defined above\n",
        "# use a vectorized implementation, do not use a for loop over the training examples\n",
        "# use the @ operator to compute matrix multiplication\n",
        "# use the np.mean function to compute the average\n",
        "# use the formula for the gradient given in the lecture\n",
        "# the vectorized formula is X.T@(h(theta,X)-y)/m\n",
        "def gradient(theta, X, y):\n",
        "    m = len(y)\n",
        "    h_theta = h(theta, X)\n",
        "    gradient = X.T @ (h_theta - y) / m\n",
        "    avg_gradient = np.mean(gradient)\n",
        "\n",
        "    return avg_gradient\n",
        "\n",
        "# test your gradient function on the initial theta \n",
        "grad = gradient(theta, X, y)\n",
        "print(grad)"
      ]
    },
    {
      "cell_type": "code",
      "execution_count": 117,
      "metadata": {
        "id": "M0bGK0M6XyCm"
      },
      "outputs": [],
      "source": [
        "# create a function called 'fit' that takes in: \n",
        "# X, y, alpha, num_iters, initial theta, \n",
        "# and returns: final theta, and J_history\n",
        "# inside the function:\n",
        "# initialize theta to the initial theta\n",
        "# initialize J_history to an empty list\n",
        "# for each iteration, using a for loop over num_iters:\n",
        "# update theta by subtracting alpha times the gradient (using the gradient function defined above)\n",
        "# compute the cost J using the cost function defined above and append it to J_history\n",
        "# return final theta, and J_history\n",
        "def fit(X, y, alpha, num_iters, initial_theta):\n",
        "    theta = initial_theta\n",
        "    J_history = []\n",
        "    \n",
        "    for _ in range(num_iters):\n",
        "        grad = gradient(theta, X, y)\n",
        "        theta -= alpha * grad\n",
        "        cost = J(theta, X, y)\n",
        "        J_history.append(cost)\n",
        "    \n",
        "    return theta, J_history\n",
        "\n",
        "# create a function called predict that takes in: \n",
        "# theta, and an array X_new of instances, \n",
        "# and returns the predictions\n",
        "# threshold the hypothesis at 0.5\n",
        "# use the hypothesis function h defined above\n",
        "def predict(theta, X_new):\n",
        "    h_theta = h(theta, X_new)\n",
        "    predictions = (h_theta >= 0.5).astype(int)\n",
        "    \n",
        "    return predictions"
      ]
    },
    {
      "cell_type": "code",
      "execution_count": 128,
      "metadata": {
        "colab": {
          "base_uri": "https://localhost:8080/",
          "height": 467
        },
        "id": "pDj1A0phXyCm",
        "outputId": "6e372989-839d-4d6c-b2df-1a0355646794"
      },
      "outputs": [
        {
          "output_type": "execute_result",
          "data": {
            "text/plain": [
              "Text(0, 0.5, 'J')"
            ]
          },
          "metadata": {},
          "execution_count": 128
        },
        {
          "output_type": "display_data",
          "data": {
            "text/plain": [
              "<Figure size 640x480 with 1 Axes>"
            ],
            "image/png": "[encoded data removed]"
          },
          "metadata": {}
        }
      ],
      "source": [
        "# call fit() with the following arguments:\n",
        "# X, y, alpha=0.1, num_iters=10000, initial_theta=np.zeros((n,1))\n",
        "# store the returned values in theta, J_history\n",
        "# uncomment the following line to call fit()\n",
        "theta, J_history = fit(X, y, alpha=0.1, num_iters=10000, initial_theta=np.zeros((n+1,1)))\n",
        "\n",
        "# plot the cost over the iterations stored in J_history\n",
        "# you should see the cost decreasing\n",
        "# uncomment the following lines to plot the cost\n",
        "plt.plot(J_history)\n",
        "plt.xlabel('Iteration')\n",
        "plt.ylabel('J') "
      ]
    },
    {
      "cell_type": "code",
      "execution_count": 119,
      "metadata": {
        "id": "YhGhJjGSXyCm",
        "outputId": "3eb71b43-157c-412e-aa25-9e8e14c823e4",
        "colab": {
          "base_uri": "https://localhost:8080/",
          "height": 448
        }
      },
      "outputs": [
        {
          "output_type": "execute_result",
          "data": {
            "text/plain": [
              "[<matplotlib.lines.Line2D at 0x7f7fad6e4e50>]"
            ]
          },
          "metadata": {},
          "execution_count": 119
        },
        {
          "output_type": "display_data",
          "data": {
            "text/plain": [
              "<Figure size 640x480 with 1 Axes>"
            ],
            "image/png": "[encoded data removed]"
          },
          "metadata": {}
        }
      ],
      "source": [
        "# plot the data points\n",
        "# use a scatter plot\n",
        "# use the first feature for the x-axis, the second feature for the y-axis\n",
        "# use the actual labels for the color, c=y[:,0]\n",
        "# uncomment the following line to plot the data points\n",
        "plt.scatter(X[:,1],X[:,2],c=y[:,0])\n",
        "\n",
        "# plot the decision boundary\n",
        "# the decision boundary is the line where the hypothesis is 0.5\n",
        "# the hypothesis is 0.5 when x@theta=0\n",
        "# so the decision boundary is the line where x@theta=0\n",
        "# this is a line in the x1,x2 plane\n",
        "\n",
        "# for plotting the decision boundary, we need two points\n",
        "# create two x1 values, say 0 and 1 (since we scaled to [0,1])\n",
        "# then calculate the corresponding x2 values \n",
        "# using the decision boundary equation\n",
        "# uncomment the following lines to plot the decision boundary\n",
        "two_x1 = np.array([0, 1])\n",
        "two_x2 = -(theta[0] + theta[1] * two_x1) / theta[2]\n",
        "\n",
        "# plot the decision boundary as a k-- line. k-- is black dashed line\n",
        "plt.plot(two_x1, two_x2, \"k--\", linewidth=3)"
      ]
    }
  ],
  "metadata": {
    "kernelspec": {
      "display_name": "Python 3",
      "language": "python",
      "name": "python3"
    },
    "language_info": {
      "codemirror_mode": {
        "name": "ipython",
        "version": 3
      },
      "file_extension": ".py",
      "mimetype": "text/x-python",
      "name": "python",
      "nbconvert_exporter": "python",
      "pygments_lexer": "ipython3",
      "version": "3.9.13"
    },
    "colab": {
      "provenance": []
    }
  },
  "nbformat": 4,
  "nbformat_minor": 0
}